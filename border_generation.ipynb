{
 "cells": [
  {
   "cell_type": "markdown",
   "id": "1e4034a6",
   "metadata": {},
   "source": [
    "# Border Generation"
   ]
  },
  {
   "cell_type": "markdown",
   "id": "faa1b1ea",
   "metadata": {},
   "source": [
    "For TEM (Transmission Electron Microscope) and SEM (Scanning Electron Microscope) Images."
   ]
  },
  {
   "cell_type": "code",
   "execution_count": 27,
   "id": "d0940605",
   "metadata": {},
   "outputs": [],
   "source": [
    "# Import necessary libraries\n",
    "import cv2\n",
    "import numpy as np\n",
    "import matplotlib.pyplot as plt\n",
    "import glob\n",
    "\n",
    "from pathlib import Path"
   ]
  },
  {
   "cell_type": "code",
   "execution_count": 28,
   "id": "bb74f68f",
   "metadata": {},
   "outputs": [],
   "source": [
    "# Constants\n",
    "IMAGES_DIR_PATH = \"/home/pooh555/coding/image_analysis/TEM_NW/20250709-TEM-Yutichai/E8-NW/\" # Raw images directory\n",
    "OUTPUT_DIR_PATH = \"./outputs/border_generation/\"    # Saved images directory\n",
    "INPUT_FILE_EXTENSION = \"tif\"   # Use '*' to include all file extensions\n",
    "OUTPUT_FILE_EXTENSION = \"tif\"  # File extension for processed images"
   ]
  },
  {
   "cell_type": "markdown",
   "id": "5cd9456d",
   "metadata": {},
   "source": [
    "### Exploratory Data Analysis"
   ]
  },
  {
   "cell_type": "markdown",
   "id": "526d1a4a",
   "metadata": {},
   "source": [
    "Conduct EDA to examine the properties of the samples."
   ]
  },
  {
   "cell_type": "code",
   "execution_count": null,
   "id": "1c2a5b95",
   "metadata": {},
   "outputs": [],
   "source": [
    "# Store all images in the direcotry in \"images\" list\n",
    "images = []\n",
    "file_names = []\n",
    "\n",
    "for file in glob.glob(IMAGES_DIR_PATH + \"*.\" + INPUT_FILE_EXTENSION):\n",
    "        file_name = Path(file).stem # Extract the original file name (extension excluded)\n",
    "        images.append(cv2.imread(IMAGES_DIR_PATH + file_name + '.' + INPUT_FILE_EXTENSION, cv2.IMREAD_COLOR_BGR))   # Read and store all images in BGR format\n",
    "        file_names.append(file_name)"
   ]
  },
  {
   "cell_type": "code",
   "execution_count": null,
   "id": "86ccdcc7",
   "metadata": {},
   "outputs": [
    {
     "name": "stdout",
     "output_type": "stream",
     "text": [
      "0\n",
      "0\n"
     ]
    }
   ],
   "source": [
    "# Check for imparity\n",
    "print(len(images))\n",
    "print(len(file_names))"
   ]
  },
  {
   "cell_type": "code",
   "execution_count": null,
   "id": "4a73a9ce",
   "metadata": {},
   "outputs": [],
   "source": [
    "# Displaying sample images\n",
    "def display_images(images):\n",
    "    print(\"Displaying images in: \" + IMAGES_DIR_PATH)\n",
    "\n",
    "    num_images_in_figure = 9    # Number of images in the figure\n",
    "    count = 1   # Image counter\n",
    "\n",
    "    plt.figure(figsize=(10, 10))    # Figure size\n",
    "\n",
    "    # Plotting all images\n",
    "    for image in images:\n",
    "        if (count > num_images_in_figure):\n",
    "            break\n",
    "\n",
    "        plt.subplot(3, 3, count)\n",
    "        plt.imshow(image)  \n",
    "        plt.axis('off') \n",
    "        plt.title(file_name, fontsize=9)\n",
    "\n",
    "        count += 1\n",
    "\n",
    "    plt.tight_layout()\n",
    "    plt.show()"
   ]
  },
  {
   "cell_type": "code",
   "execution_count": null,
   "id": "8c100d1a",
   "metadata": {},
   "outputs": [
    {
     "name": "stdout",
     "output_type": "stream",
     "text": [
      "Displaying images in: /home/pooh555/coding/TEM_image_analysis/TEM_NW/20250709-TEM-Yutichai/E8-NW/\n"
     ]
    },
    {
     "data": {
      "text/plain": [
       "<Figure size 1000x1000 with 0 Axes>"
      ]
     },
     "metadata": {},
     "output_type": "display_data"
    }
   ],
   "source": [
    "display_images(images)"
   ]
  },
  {
   "cell_type": "markdown",
   "id": "e26eccb6",
   "metadata": {},
   "source": [
    "### Data Preparation"
   ]
  },
  {
   "cell_type": "markdown",
   "id": "9dd7e7dc",
   "metadata": {},
   "source": [
    "Adjusting constrast, brightness, etc to facilitate border marking process."
   ]
  },
  {
   "cell_type": "code",
   "execution_count": null,
   "id": "7161faa1",
   "metadata": {},
   "outputs": [],
   "source": [
    "# Image Properties Modification Function\n",
    "\n",
    "# Note: The order of processing layers in this function matters\n",
    "\n",
    "def modify_image(image, alpha=1.5, beta=10, guassian_kernel_size=5):\n",
    "    processed_image = cv2.GaussianBlur(image, (guassian_kernel_size, guassian_kernel_size), 0)\n",
    "    processed_image = cv2.convertScaleAbs(processed_image, alpha=alpha, beta=beta)\n",
    "\n",
    "    return processed_image"
   ]
  },
  {
   "cell_type": "code",
   "execution_count": null,
   "id": "34df8230",
   "metadata": {},
   "outputs": [],
   "source": [
    "# Modify image properties\n",
    "modified_images = []\n",
    "\n",
    "for image in images:\n",
    "    modified_images.append(modify_image(image))\n"
   ]
  },
  {
   "cell_type": "code",
   "execution_count": null,
   "id": "976357c2",
   "metadata": {},
   "outputs": [
    {
     "name": "stdout",
     "output_type": "stream",
     "text": [
      "Displaying images in: /home/pooh555/coding/TEM_image_analysis/TEM_NW/20250709-TEM-Yutichai/E8-NW/\n"
     ]
    },
    {
     "data": {
      "text/plain": [
       "<Figure size 1000x1000 with 0 Axes>"
      ]
     },
     "metadata": {},
     "output_type": "display_data"
    }
   ],
   "source": [
    "display_images(modified_images)"
   ]
  },
  {
   "cell_type": "markdown",
   "id": "82897ba9",
   "metadata": {},
   "source": [
    "### Border Synthesis"
   ]
  },
  {
   "cell_type": "code",
   "execution_count": null,
   "id": "c425f222",
   "metadata": {},
   "outputs": [],
   "source": [
    "# Border Generation Function\n",
    "def generate_border(image, border_size=5, n_erosions=1):\n",
    "    # Ensure the input image is color (BGR)\n",
    "    if len(image.shape) == 2:   # Convert greyscale to BGR\n",
    "        image = cv2.cvtColor(image, cv2.COLOR_GRAY2BGR)\n",
    "    elif image.shape[2] == 4:   # Convert RGBA to BGR\n",
    "        image = cv2.cvtColor(image, cv2.COLOR_RGBA2BGR)\n",
    "\n",
    "    greyscale_image = cv2.cvtColor(image, cv2.COLOR_BGR2GRAY)   # Convert the image to grayscale for erosion/dilation operations\n",
    "    \n",
    "    # Image erosion\n",
    "    erosion_kernel = np.ones((3, 3), np.uint8)\n",
    "    eroded_image_greyscale = cv2.erode(greyscale_image, erosion_kernel, iterations=n_erosions)\n",
    "\n",
    "    # Image dilation\n",
    "    kernel_size = 2 * border_size + 1   \n",
    "    dilation_kernel = np.ones((kernel_size, kernel_size), np.uint8)\n",
    "    dilated_image_greyscale = cv2.dilate(eroded_image_greyscale, dilation_kernel, iterations=1)\n",
    "\n",
    "    # Create a mask for the border    \n",
    "    border_color = (0, 0, 255) # Define the border color (BGR)\n",
    "    border_mask = ((dilated_image_greyscale == 255) & (eroded_image_greyscale < 255))    # The border region are pixels where dilated_image_gray is 255 but eroded_image_greyscale is not 255 (or 0)\n",
    "    image_with_border = image.copy()    # Create a copy of the original color image to draw the border on \n",
    "    image_with_border[border_mask] = border_color  # Apply the border mask\n",
    "\n",
    "    return image_with_border"
   ]
  },
  {
   "cell_type": "code",
   "execution_count": null,
   "id": "2025fc7e",
   "metadata": {},
   "outputs": [
    {
     "name": "stdout",
     "output_type": "stream",
     "text": [
      "Processing images in: /home/pooh555/coding/TEM_image_analysis/TEM_NW/20250709-TEM-Yutichai/E8-NW/\n"
     ]
    }
   ],
   "source": [
    "# Iterating over all images in the desired directory\n",
    "print(\"Processing images in: \" + IMAGES_DIR_PATH)\n",
    "\n",
    "for image, file_name in zip(modified_images, file_names):\n",
    "    processed_image = generate_border(image)    # Generated the objects borders\n",
    "\n",
    "    cv2.imwrite(OUTPUT_DIR_PATH + file_name + '.' + OUTPUT_FILE_EXTENSION, processed_image)   # Save the processed image\n",
    "    print(\"Finished processing: \"+ file_name + '.' + INPUT_FILE_EXTENSION)"
   ]
  },
  {
   "cell_type": "markdown",
   "id": "0ac051d3",
   "metadata": {},
   "source": [
    "# Test section"
   ]
  },
  {
   "cell_type": "markdown",
   "id": "5d3e66ba",
   "metadata": {},
   "source": [
    "The code snippets below are solely used for testing purposes, and it can be ignored."
   ]
  },
  {
   "cell_type": "code",
   "execution_count": null,
   "id": "52a92f22",
   "metadata": {},
   "outputs": [],
   "source": [
    "# Border Generation Function (Debugging version)\n",
    "def generate_border_debug(image, border_size=5, n_erosions=1):\n",
    "    # Ensure the input image is color (BGR)\n",
    "    if len(image.shape) == 2:   # Convert greyscale to BGR\n",
    "        image = cv2.cvtColor(image, cv2.COLOR_GRAY2BGR)\n",
    "    elif image.shape[2] == 4:   # Convert RGBA to BGR\n",
    "        image = cv2.cvtColor(image, cv2.COLOR_RGBA2BGR)\n",
    "\n",
    "    greyscale_image = cv2.cvtColor(image, cv2.COLOR_BGR2GRAY)   # Convert the image to grayscale for erosion/dilation operations\n",
    "    \n",
    "    # Image erosion\n",
    "    erosion_kernel = np.ones((3, 3), np.uint8)\n",
    "    eroded_image_greyscale = cv2.erode(greyscale_image, erosion_kernel, iterations=n_erosions)\n",
    "\n",
    "    # Image dilation\n",
    "    kernel_size = 2 * border_size + 1   \n",
    "    dilation_kernel = np.ones((kernel_size, kernel_size), np.uint8)\n",
    "    dilated_image_grayscale = cv2.dilate(eroded_image_greyscale, dilation_kernel, iterations=1)\n",
    "    \n",
    "    plt.imshow(dilated_image_grayscale, cmap=\"gray\")\n",
    "    plt.show()\n",
    "\n",
    "    # Create a mask for the border   \n",
    "    border_color = (0, 0, 255) # Define the border color (BGR) \n",
    "    border_mask = ((dilated_image_grayscale == 255) & (eroded_image_greyscale < 255))    # The border region are pixels where dilated_image_gray is 255 but eroded_image_greyscale is not 255 (or 0)\n",
    "    image_with_border = image.copy()    # Create a copy of the original color image to draw the border on \n",
    "    image_with_border[border_mask] = border_color  # Apply the border mask\n",
    "    image_with_border_rgb = cv2.cvtColor(image_with_border, cv2.COLOR_BGR2RGB)  # Convert BRG to RGB\n",
    "\n",
    "    plt.imshow(image_with_border_rgb)\n",
    "    plt.show()\n",
    "\n",
    "    return image_with_border"
   ]
  },
  {
   "cell_type": "code",
   "execution_count": null,
   "id": "83d0ce29",
   "metadata": {},
   "outputs": [
    {
     "name": "stderr",
     "output_type": "stream",
     "text": [
      "[ WARN:0@16.694] global loadsave.cpp:268 findDecoder imread_('/home/pooh555/coding/TEM_image_analysis/TEM_NW/20250709-TEM-Yutichai/E8-NW/OneView 200kV 25kX E8-NW Yutichai 0003.tif'): can't open/read file: check file path/integrity\n"
     ]
    },
    {
     "ename": "error",
     "evalue": "OpenCV(4.11.0) /home/conda/feedstock_root/build_artifacts/libopencv_1743559199045/work/modules/imgproc/src/smooth.dispatch.cpp:618: error: (-215:Assertion failed) !_src.empty() in function 'GaussianBlur'\n",
     "output_type": "error",
     "traceback": [
      "\u001b[0;31m---------------------------------------------------------------------------\u001b[0m",
      "\u001b[0;31merror\u001b[0m                                     Traceback (most recent call last)",
      "Cell \u001b[0;32mIn[26], line 2\u001b[0m\n\u001b[1;32m      1\u001b[0m image \u001b[38;5;241m=\u001b[39m cv2\u001b[38;5;241m.\u001b[39mimread(IMAGES_DIR_PATH \u001b[38;5;241m+\u001b[39m \u001b[38;5;124m\"\u001b[39m\u001b[38;5;124mOneView 200kV 25kX E8-NW Yutichai 0003.tif\u001b[39m\u001b[38;5;124m\"\u001b[39m, cv2\u001b[38;5;241m.\u001b[39mIMREAD_GRAYSCALE)\n\u001b[0;32m----> 2\u001b[0m modified_image \u001b[38;5;241m=\u001b[39m \u001b[43mmodify_image\u001b[49m\u001b[43m(\u001b[49m\u001b[43mimage\u001b[49m\u001b[43m,\u001b[49m\u001b[43m \u001b[49m\u001b[43malpha\u001b[49m\u001b[38;5;241;43m=\u001b[39;49m\u001b[38;5;241;43m2.0\u001b[39;49m\u001b[43m,\u001b[49m\u001b[43m \u001b[49m\u001b[43mbeta\u001b[49m\u001b[38;5;241;43m=\u001b[39;49m\u001b[38;5;241;43m2.5\u001b[39;49m\u001b[43m,\u001b[49m\u001b[43m \u001b[49m\u001b[43mguassian_kernel_size\u001b[49m\u001b[38;5;241;43m=\u001b[39;49m\u001b[38;5;241;43m11\u001b[39;49m\u001b[43m)\u001b[49m\n\u001b[1;32m      3\u001b[0m processed_image \u001b[38;5;241m=\u001b[39m generate_border_debug(modified_image)\n\u001b[1;32m      5\u001b[0m cv2\u001b[38;5;241m.\u001b[39mimwrite(OUTPUT_DIR_PATH \u001b[38;5;241m+\u001b[39m \u001b[38;5;124m\"\u001b[39m\u001b[38;5;124msample_output\u001b[39m\u001b[38;5;124m\"\u001b[39m \u001b[38;5;241m+\u001b[39m \u001b[38;5;124m'\u001b[39m\u001b[38;5;124m.\u001b[39m\u001b[38;5;124m'\u001b[39m \u001b[38;5;241m+\u001b[39m OUTPUT_FILE_EXTENSION, processed_image)\n",
      "Cell \u001b[0;32mIn[20], line 6\u001b[0m, in \u001b[0;36mmodify_image\u001b[0;34m(image, alpha, beta, guassian_kernel_size)\u001b[0m\n\u001b[1;32m      5\u001b[0m \u001b[38;5;28;01mdef\u001b[39;00m\u001b[38;5;250m \u001b[39m\u001b[38;5;21mmodify_image\u001b[39m(image, alpha\u001b[38;5;241m=\u001b[39m\u001b[38;5;241m1.5\u001b[39m, beta\u001b[38;5;241m=\u001b[39m\u001b[38;5;241m10\u001b[39m, guassian_kernel_size\u001b[38;5;241m=\u001b[39m\u001b[38;5;241m5\u001b[39m):\n\u001b[0;32m----> 6\u001b[0m     processed_image \u001b[38;5;241m=\u001b[39m \u001b[43mcv2\u001b[49m\u001b[38;5;241;43m.\u001b[39;49m\u001b[43mGaussianBlur\u001b[49m\u001b[43m(\u001b[49m\u001b[43mimage\u001b[49m\u001b[43m,\u001b[49m\u001b[43m \u001b[49m\u001b[43m(\u001b[49m\u001b[43mguassian_kernel_size\u001b[49m\u001b[43m,\u001b[49m\u001b[43m \u001b[49m\u001b[43mguassian_kernel_size\u001b[49m\u001b[43m)\u001b[49m\u001b[43m,\u001b[49m\u001b[43m \u001b[49m\u001b[38;5;241;43m0\u001b[39;49m\u001b[43m)\u001b[49m\n\u001b[1;32m      7\u001b[0m     processed_image \u001b[38;5;241m=\u001b[39m cv2\u001b[38;5;241m.\u001b[39mconvertScaleAbs(processed_image, alpha\u001b[38;5;241m=\u001b[39malpha, beta\u001b[38;5;241m=\u001b[39mbeta)\n\u001b[1;32m      9\u001b[0m     \u001b[38;5;28;01mreturn\u001b[39;00m processed_image\n",
      "\u001b[0;31merror\u001b[0m: OpenCV(4.11.0) /home/conda/feedstock_root/build_artifacts/libopencv_1743559199045/work/modules/imgproc/src/smooth.dispatch.cpp:618: error: (-215:Assertion failed) !_src.empty() in function 'GaussianBlur'\n"
     ]
    }
   ],
   "source": [
    "image = cv2.imread(IMAGES_DIR_PATH + \"OneView 200kV 25kX E8-NW Yutichai 0003.tif\", cv2.IMREAD_GRAYSCALE)\n",
    "modified_image = modify_image(image, alpha=2.0, beta=2.5, guassian_kernel_size=11)\n",
    "processed_image = generate_border_debug(modified_image)\n",
    "\n",
    "cv2.imwrite(OUTPUT_DIR_PATH + \"sample_output\" + '.' + OUTPUT_FILE_EXTENSION, processed_image)"
   ]
  }
 ],
 "metadata": {
  "kernelspec": {
   "display_name": "Python 3",
   "language": "python",
   "name": "python3"
  },
  "language_info": {
   "codemirror_mode": {
    "name": "ipython",
    "version": 3
   },
   "file_extension": ".py",
   "mimetype": "text/x-python",
   "name": "python",
   "nbconvert_exporter": "python",
   "pygments_lexer": "ipython3",
   "version": "3.11.6"
  }
 },
 "nbformat": 4,
 "nbformat_minor": 5
}
